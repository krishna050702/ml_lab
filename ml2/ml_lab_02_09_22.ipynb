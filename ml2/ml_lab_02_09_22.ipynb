{
 "cells": [
  {
   "cell_type": "code",
   "execution_count": 1,
   "metadata": {},
   "outputs": [],
   "source": [
    "import numpy as np\n",
    "import pandas as pd"
   ]
  },
  {
   "cell_type": "code",
   "execution_count": 2,
   "metadata": {},
   "outputs": [],
   "source": [
    "file=\"C:\\\\Users\\\\asus\\\\OneDrive\\\\Desktop\\\\college_sem\\\\5th sem\\\\ml_lab\\\\ml2\\\\dataset-2.csv\""
   ]
  },
  {
   "cell_type": "code",
   "execution_count": 3,
   "metadata": {},
   "outputs": [],
   "source": [
    "data=pd.read_csv(file)"
   ]
  },
  {
   "cell_type": "code",
   "execution_count": 4,
   "metadata": {},
   "outputs": [
    {
     "name": "stdout",
     "output_type": "stream",
     "text": [
      "    color  toughness fungus appearance  poisonous\n",
      "0    green      hard     no     wrinkle       yes\n",
      "1    green      hard    yes      smooth        no\n",
      "2   brown       soft     no     wrinkle        no\n",
      "3  orange       hard     no     wrinkle       yes\n",
      "4    green     soft     yes      smooth       yes\n",
      "5    green     hard    yes      wrinkle       yes\n",
      "6  orange       hard     no     wrinkle       yes\n"
     ]
    }
   ],
   "source": [
    "print(data)"
   ]
  },
  {
   "cell_type": "code",
   "execution_count": 5,
   "metadata": {},
   "outputs": [
    {
     "data": {
      "text/plain": [
       "array([['green', 'hard', 'no', 'wrinkle', 'yes'],\n",
       "       [' green', 'hard', 'yes', 'smooth', 'no'],\n",
       "       [' brown ', 'soft', 'no', 'wrinkle', 'no'],\n",
       "       ['orange ', 'hard', 'no', 'wrinkle', 'yes'],\n",
       "       ['green', 'soft ', 'yes', 'smooth', 'yes'],\n",
       "       ['green', 'hard ', 'yes ', 'wrinkle', 'yes'],\n",
       "       ['orange ', 'hard', 'no', 'wrinkle', 'yes']], dtype=object)"
      ]
     },
     "execution_count": 5,
     "metadata": {},
     "output_type": "execute_result"
    }
   ],
   "source": [
    "array=np.array(data)\n",
    "array"
   ]
  },
  {
   "cell_type": "code",
   "execution_count": 7,
   "metadata": {},
   "outputs": [
    {
     "data": {
      "text/plain": [
       "array([['green', 'hard', 'no', 'wrinkle'],\n",
       "       [' green', 'hard', 'yes', 'smooth'],\n",
       "       [' brown ', 'soft', 'no', 'wrinkle'],\n",
       "       ['orange ', 'hard', 'no', 'wrinkle'],\n",
       "       ['green', 'soft ', 'yes', 'smooth'],\n",
       "       ['green', 'hard ', 'yes ', 'wrinkle'],\n",
       "       ['orange ', 'hard', 'no', 'wrinkle']], dtype=object)"
      ]
     },
     "execution_count": 7,
     "metadata": {},
     "output_type": "execute_result"
    }
   ],
   "source": [
    "feature=array[:,:-1]\n",
    "feature"
   ]
  },
  {
   "cell_type": "code",
   "execution_count": 8,
   "metadata": {},
   "outputs": [
    {
     "data": {
      "text/plain": [
       "array(['yes', 'no', 'no', 'yes', 'yes', 'yes', 'yes'], dtype=object)"
      ]
     },
     "execution_count": 8,
     "metadata": {},
     "output_type": "execute_result"
    }
   ],
   "source": [
    "outcome=array[::,-1]\n",
    "outcome"
   ]
  },
  {
   "cell_type": "code",
   "execution_count": 10,
   "metadata": {},
   "outputs": [
    {
     "name": "stdout",
     "output_type": "stream",
     "text": [
      "['?' '?' '?' '?']\n"
     ]
    }
   ],
   "source": [
    "g1=feature[0]\n",
    "gen=[]\n",
    "for i in range(1,len(feature)):\n",
    "    gen=feature[i]\n",
    "    for j in range(len(feature[0])):\n",
    "        if gen[j]!=g1[j] and outcome[i]!='no':\n",
    "            gen[j]='?'\n",
    "    g1=gen\n",
    "print(g1)"
   ]
  },
  {
   "cell_type": "code",
   "execution_count": null,
   "metadata": {},
   "outputs": [],
   "source": []
  },
  {
   "cell_type": "markdown",
   "metadata": {},
   "source": [
    "## Candidate elmiination algorithm "
   ]
  },
  {
   "cell_type": "code",
   "execution_count": 11,
   "metadata": {},
   "outputs": [],
   "source": [
    "file=\"C:\\\\Users\\\\asus\\\\OneDrive\\\\Desktop\\\\college_sem\\\\5th sem\\\\ml_lab\\\\ml2\\\\P2dataset-1.csv\""
   ]
  },
  {
   "cell_type": "code",
   "execution_count": 12,
   "metadata": {},
   "outputs": [
    {
     "name": "stdout",
     "output_type": "stream",
     "text": [
      "     Sky AirTemp Humidity    Wind Water Forecast EnjoySport\n",
      "0  Sunny    Warm   Normal  Strong  Warm     Same        Yes\n",
      "1  Sunny    Warm     High  Strong  Warm     Same        Yes\n",
      "2  Rainy    Cold     High  Strong  Warm   Change         No\n",
      "3  Sunny    Warm     High  Strong  Cool   Change        Yes\n"
     ]
    }
   ],
   "source": [
    "data=pd.read_csv(file)\n",
    "print(data)"
   ]
  },
  {
   "cell_type": "code",
   "execution_count": null,
   "metadata": {},
   "outputs": [],
   "source": []
  }
 ],
 "metadata": {
  "kernelspec": {
   "display_name": "Python 3.10.4 64-bit",
   "language": "python",
   "name": "python3"
  },
  "language_info": {
   "codemirror_mode": {
    "name": "ipython",
    "version": 3
   },
   "file_extension": ".py",
   "mimetype": "text/x-python",
   "name": "python",
   "nbconvert_exporter": "python",
   "pygments_lexer": "ipython3",
   "version": "3.10.4"
  },
  "orig_nbformat": 4,
  "vscode": {
   "interpreter": {
    "hash": "876db7d3f8682b7e4c5477e5f1e2dc2bd1b19fe05d9aabd59218369070754b39"
   }
  }
 },
 "nbformat": 4,
 "nbformat_minor": 2
}
